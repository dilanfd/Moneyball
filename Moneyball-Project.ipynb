{
 "cells": [
  {
   "cell_type": "markdown",
   "metadata": {},
   "source": [
    "![text here](./images/moneyball_title.jpg)\n",
    "______"
   ]
  },
  {
   "cell_type": "markdown",
   "metadata": {},
   "source": [
    "# Synopsis\n",
    "\n",
    "## Background\n",
    "_Source: Wikipedia_\n",
    "\n",
    "It was the 102nd season in franchise history. The Athletics finished first in the American League West with a record of 103-59.\n",
    "\n",
    "The Athletics' 2002 campaign ranks among the most famous in franchise history. Following the 2001 season, Oakland saw the departure of three key players. Billy Beane, the team's general manager, responded with a series of under-the-radar free agent signings. The new-look Athletics, despite a comparative lack of star power, surprised the baseball world by besting the 2001 team's regular season record. The team is most famous, however, for winning 20 consecutive games between August 13 and September 4, 2002. The Athletics' season was the subject of Michael Lewis's 2003 book Moneyball: The Art of Winning an Unfair Game (Lewis was given the opportunity to follow the team around throughout the season). A film adaptation of the book, also titled Moneyball, was released in 2011 starring _Brad Pitt and Jonah Hill_.\n",
    "\n",
    "## Moneyball book\n",
    "[_Moneyball: The art of winning an unfair game by Micheal Lewis_](https://www.amazon.com/Moneyball-Art-Winning-Unfair-Game-ebook/dp/B000RH0C8G/ref=sr_1_2?ie=UTF8&qid=1546997969&sr=8-2&keywords=moneyball)\n",
    "\n",
    "The central premise of Moneyball is that the collective wisdom of baseball insiders (including players, managers, coaches, scouts, and the front office) over the past century is subjective and often flawed. Statistics such as stolen bases, runs batted in, and batting average, typically used to gauge players, are relics of a 19th-century view of the game and the statistics available at that time. Before sabermetrics was introduced to baseball, teams were dependent on the skills of their scouts to find and evaluate players. Scouts are experienced in the sport, usually having been players or coaches.[1] The book argues that the Oakland A's' front office took advantage of more analytical gauges of player performance to field a team that could better compete against richer competitors in Major League Baseball (MLB).\n",
    "\n",
    "Rigorous statistical analysis had demonstrated that on-base percentage and slugging percentage are better indicators of offensive success, and the A's became convinced that these qualities were cheaper to obtain on the open market than more historically valued qualities such as speed and contact. These observations often flew in the face of conventional baseball wisdom and the beliefs of many baseball scouts and executives.\n",
    "\n",
    "By re-evaluating their strategy in this way, the 2002 Athletics, with approximately \\44 million in salary, were competitive with larger market teams such as the New York Yankees, who spent over \\$125 million in payroll that season. Because of its smaller budget, Oakland had to find players undervalued by the market, and their system has proven itself thus far. The approach brought the A's to the playoffs in 2002 and 2003.\n",
    "\n",
    "<img src=\"images/salary.png\" width=\"600\">\n",
    "\n",
    "Because of the team's smaller revenues, Oakland is forced to find players undervalued by the market, and their system for finding value in undervalued players has proven itself thus far. This approach brought the A's to the playoffs in 2002 and 2003.\n",
    "\n",
    "In this project we work with some data and with the goal of trying to find replacement players for the ones lost at the start of the off-season - During the 2001–02 offseason, the team lost three key free agents to larger market teams: 2000 AL MVP Jason Giambi to the New York Yankees, outfielder Johnny Damon to the Boston Red Sox, and closer Jason Isringhausen to the St. Louis Cardinals."
   ]
  },
  {
   "cell_type": "markdown",
   "metadata": {},
   "source": [
    "## Data Source \n",
    "From [Sean Lahaman's](http://www.seanlahman.com/baseball-archive/statistics/) website. The metadata for the csv files are located **readme2013.txt** file."
   ]
  },
  {
   "cell_type": "markdown",
   "metadata": {},
   "source": [
    "### Let us first load the data and look at the head of the file"
   ]
  },
  {
   "cell_type": "code",
   "execution_count": 1,
   "metadata": {},
   "outputs": [],
   "source": [
    "batting <- read.csv('./data/Batting.csv')"
   ]
  },
  {
   "cell_type": "code",
   "execution_count": 2,
   "metadata": {},
   "outputs": [
    {
     "data": {
      "text/html": [
       "<table>\n",
       "<thead><tr><th scope=col>playerID</th><th scope=col>yearID</th><th scope=col>stint</th><th scope=col>teamID</th><th scope=col>lgID</th><th scope=col>G</th><th scope=col>G_batting</th><th scope=col>AB</th><th scope=col>R</th><th scope=col>H</th><th scope=col>⋯</th><th scope=col>SB</th><th scope=col>CS</th><th scope=col>BB</th><th scope=col>SO</th><th scope=col>IBB</th><th scope=col>HBP</th><th scope=col>SH</th><th scope=col>SF</th><th scope=col>GIDP</th><th scope=col>G_old</th></tr></thead>\n",
       "<tbody>\n",
       "\t<tr><td>aardsda01</td><td>2004     </td><td>1        </td><td>SFN      </td><td>NL       </td><td>11       </td><td>11       </td><td>0        </td><td>0        </td><td>0        </td><td>⋯        </td><td>0        </td><td>0        </td><td>0        </td><td>0        </td><td>0        </td><td>0        </td><td>0        </td><td>0        </td><td>0        </td><td>11       </td></tr>\n",
       "\t<tr><td>aardsda01</td><td>2006     </td><td>1        </td><td>CHN      </td><td>NL       </td><td>45       </td><td>43       </td><td>2        </td><td>0        </td><td>0        </td><td>⋯        </td><td>0        </td><td>0        </td><td>0        </td><td>0        </td><td>0        </td><td>0        </td><td>1        </td><td>0        </td><td>0        </td><td>45       </td></tr>\n",
       "\t<tr><td>aardsda01</td><td>2007     </td><td>1        </td><td>CHA      </td><td>AL       </td><td>25       </td><td> 2       </td><td>0        </td><td>0        </td><td>0        </td><td>⋯        </td><td>0        </td><td>0        </td><td>0        </td><td>0        </td><td>0        </td><td>0        </td><td>0        </td><td>0        </td><td>0        </td><td> 2       </td></tr>\n",
       "</tbody>\n",
       "</table>\n"
      ],
      "text/latex": [
       "\\begin{tabular}{r|llllllllllllllllllllllll}\n",
       " playerID & yearID & stint & teamID & lgID & G & G\\_batting & AB & R & H & ⋯ & SB & CS & BB & SO & IBB & HBP & SH & SF & GIDP & G\\_old\\\\\n",
       "\\hline\n",
       "\t aardsda01 & 2004      & 1         & SFN       & NL        & 11        & 11        & 0         & 0         & 0         & ⋯         & 0         & 0         & 0         & 0         & 0         & 0         & 0         & 0         & 0         & 11       \\\\\n",
       "\t aardsda01 & 2006      & 1         & CHN       & NL        & 45        & 43        & 2         & 0         & 0         & ⋯         & 0         & 0         & 0         & 0         & 0         & 0         & 1         & 0         & 0         & 45       \\\\\n",
       "\t aardsda01 & 2007      & 1         & CHA       & AL        & 25        &  2        & 0         & 0         & 0         & ⋯         & 0         & 0         & 0         & 0         & 0         & 0         & 0         & 0         & 0         &  2       \\\\\n",
       "\\end{tabular}\n"
      ],
      "text/markdown": [
       "\n",
       "playerID | yearID | stint | teamID | lgID | G | G_batting | AB | R | H | ⋯ | SB | CS | BB | SO | IBB | HBP | SH | SF | GIDP | G_old | \n",
       "|---|---|---|\n",
       "| aardsda01 | 2004      | 1         | SFN       | NL        | 11        | 11        | 0         | 0         | 0         | ⋯         | 0         | 0         | 0         | 0         | 0         | 0         | 0         | 0         | 0         | 11        | \n",
       "| aardsda01 | 2006      | 1         | CHN       | NL        | 45        | 43        | 2         | 0         | 0         | ⋯         | 0         | 0         | 0         | 0         | 0         | 0         | 1         | 0         | 0         | 45        | \n",
       "| aardsda01 | 2007      | 1         | CHA       | AL        | 25        |  2        | 0         | 0         | 0         | ⋯         | 0         | 0         | 0         | 0         | 0         | 0         | 0         | 0         | 0         |  2        | \n",
       "\n",
       "\n"
      ],
      "text/plain": [
       "  playerID  yearID stint teamID lgID G  G_batting AB R H ⋯ SB CS BB SO IBB HBP\n",
       "1 aardsda01 2004   1     SFN    NL   11 11        0  0 0 ⋯ 0  0  0  0  0   0  \n",
       "2 aardsda01 2006   1     CHN    NL   45 43        2  0 0 ⋯ 0  0  0  0  0   0  \n",
       "3 aardsda01 2007   1     CHA    AL   25  2        0  0 0 ⋯ 0  0  0  0  0   0  \n",
       "  SH SF GIDP G_old\n",
       "1 0  0  0    11   \n",
       "2 1  0  0    45   \n",
       "3 0  0  0     2   "
      ]
     },
     "metadata": {},
     "output_type": "display_data"
    }
   ],
   "source": [
    "head(batting, 3)"
   ]
  },
  {
   "cell_type": "markdown",
   "metadata": {},
   "source": [
    "### Structure of our dataset?"
   ]
  },
  {
   "cell_type": "code",
   "execution_count": 3,
   "metadata": {},
   "outputs": [
    {
     "name": "stdout",
     "output_type": "stream",
     "text": [
      "'data.frame':\t97889 obs. of  24 variables:\n",
      " $ playerID : Factor w/ 18107 levels \"aardsda01\",\"aaronha01\",..: 1 1 1 1 1 1 1 2 2 2 ...\n",
      " $ yearID   : int  2004 2006 2007 2008 2009 2010 2012 1954 1955 1956 ...\n",
      " $ stint    : int  1 1 1 1 1 1 1 1 1 1 ...\n",
      " $ teamID   : Factor w/ 149 levels \"ALT\",\"ANA\",\"ARI\",..: 117 35 33 16 116 116 93 80 80 80 ...\n",
      " $ lgID     : Factor w/ 6 levels \"AA\",\"AL\",\"FL\",..: 4 4 2 2 2 2 2 4 4 4 ...\n",
      " $ G        : int  11 45 25 47 73 53 1 122 153 153 ...\n",
      " $ G_batting: int  11 43 2 5 3 4 NA 122 153 153 ...\n",
      " $ AB       : int  0 2 0 1 0 0 NA 468 602 609 ...\n",
      " $ R        : int  0 0 0 0 0 0 NA 58 105 106 ...\n",
      " $ H        : int  0 0 0 0 0 0 NA 131 189 200 ...\n",
      " $ X2B      : int  0 0 0 0 0 0 NA 27 37 34 ...\n",
      " $ X3B      : int  0 0 0 0 0 0 NA 6 9 14 ...\n",
      " $ HR       : int  0 0 0 0 0 0 NA 13 27 26 ...\n",
      " $ RBI      : int  0 0 0 0 0 0 NA 69 106 92 ...\n",
      " $ SB       : int  0 0 0 0 0 0 NA 2 3 2 ...\n",
      " $ CS       : int  0 0 0 0 0 0 NA 2 1 4 ...\n",
      " $ BB       : int  0 0 0 0 0 0 NA 28 49 37 ...\n",
      " $ SO       : int  0 0 0 1 0 0 NA 39 61 54 ...\n",
      " $ IBB      : int  0 0 0 0 0 0 NA NA 5 6 ...\n",
      " $ HBP      : int  0 0 0 0 0 0 NA 3 3 2 ...\n",
      " $ SH       : int  0 1 0 0 0 0 NA 6 7 5 ...\n",
      " $ SF       : int  0 0 0 0 0 0 NA 4 4 7 ...\n",
      " $ GIDP     : int  0 0 0 0 0 0 NA 13 20 21 ...\n",
      " $ G_old    : int  11 45 2 5 NA NA NA 122 153 153 ...\n"
     ]
    }
   ],
   "source": [
    "str(batting)"
   ]
  },
  {
   "cell_type": "code",
   "execution_count": 4,
   "metadata": {},
   "outputs": [
    {
     "data": {
      "text/html": [
       "<ol class=list-inline>\n",
       "\t<li>0</li>\n",
       "\t<li>2</li>\n",
       "\t<li>0</li>\n",
       "\t<li>1</li>\n",
       "\t<li>0</li>\n",
       "\t<li>0</li>\n",
       "</ol>\n"
      ],
      "text/latex": [
       "\\begin{enumerate*}\n",
       "\\item 0\n",
       "\\item 2\n",
       "\\item 0\n",
       "\\item 1\n",
       "\\item 0\n",
       "\\item 0\n",
       "\\end{enumerate*}\n"
      ],
      "text/markdown": [
       "1. 0\n",
       "2. 2\n",
       "3. 0\n",
       "4. 1\n",
       "5. 0\n",
       "6. 0\n",
       "\n",
       "\n"
      ],
      "text/plain": [
       "[1] 0 2 0 1 0 0"
      ]
     },
     "metadata": {},
     "output_type": "display_data"
    }
   ],
   "source": [
    "head(batting$AB)"
   ]
  },
  {
   "cell_type": "code",
   "execution_count": 5,
   "metadata": {},
   "outputs": [
    {
     "data": {
      "text/html": [
       "<ol class=list-inline>\n",
       "\t<li>0</li>\n",
       "\t<li>0</li>\n",
       "\t<li>0</li>\n",
       "\t<li>0</li>\n",
       "\t<li>0</li>\n",
       "\t<li>0</li>\n",
       "</ol>\n"
      ],
      "text/latex": [
       "\\begin{enumerate*}\n",
       "\\item 0\n",
       "\\item 0\n",
       "\\item 0\n",
       "\\item 0\n",
       "\\item 0\n",
       "\\item 0\n",
       "\\end{enumerate*}\n"
      ],
      "text/markdown": [
       "1. 0\n",
       "2. 0\n",
       "3. 0\n",
       "4. 0\n",
       "5. 0\n",
       "6. 0\n",
       "\n",
       "\n"
      ],
      "text/plain": [
       "[1] 0 0 0 0 0 0"
      ]
     },
     "metadata": {},
     "output_type": "display_data"
    }
   ],
   "source": [
    "head(batting$X2B)"
   ]
  },
  {
   "cell_type": "markdown",
   "metadata": {},
   "source": [
    "## Feature Engineering\n",
    "\n",
    "We need to add a couple more statistics that were used in Moneyball. Thesea are:\n",
    "\n",
    "- [Batting Average](https://en.wikipedia.org/wiki/Batting_average)\n",
    "- [On Base Percentage](https://en.wikipedia.org/wiki/On-base_percentage)\n",
    "- [Slugging Percentage](https://en.wikipedia.org/wiki/Slugging_percentage)"
   ]
  },
  {
   "cell_type": "code",
   "execution_count": 6,
   "metadata": {},
   "outputs": [],
   "source": [
    "# Batting Average\n",
    "batting$BA <- batting$H / batting$AB"
   ]
  },
  {
   "cell_type": "code",
   "execution_count": 7,
   "metadata": {},
   "outputs": [
    {
     "data": {
      "text/html": [
       "<ol class=list-inline>\n",
       "\t<li>0.123076923076923</li>\n",
       "\t<li>0.274647887323944</li>\n",
       "\t<li>0.147058823529412</li>\n",
       "\t<li>0.274509803921569</li>\n",
       "\t<li>0.213872832369942</li>\n",
       "</ol>\n"
      ],
      "text/latex": [
       "\\begin{enumerate*}\n",
       "\\item 0.123076923076923\n",
       "\\item 0.274647887323944\n",
       "\\item 0.147058823529412\n",
       "\\item 0.274509803921569\n",
       "\\item 0.213872832369942\n",
       "\\end{enumerate*}\n"
      ],
      "text/markdown": [
       "1. 0.123076923076923\n",
       "2. 0.274647887323944\n",
       "3. 0.147058823529412\n",
       "4. 0.274509803921569\n",
       "5. 0.213872832369942\n",
       "\n",
       "\n"
      ],
      "text/plain": [
       "[1] 0.1230769 0.2746479 0.1470588 0.2745098 0.2138728"
      ]
     },
     "metadata": {},
     "output_type": "display_data"
    }
   ],
   "source": [
    "tail(batting$BA, 5)"
   ]
  },
  {
   "cell_type": "code",
   "execution_count": 8,
   "metadata": {},
   "outputs": [],
   "source": [
    "# On base percentage\n",
    "batting$OBP <- (batting$H + batting$BB + batting$HBP) / (batting$AB + batting$BB + batting$HBP + batting$SF)"
   ]
  },
  {
   "cell_type": "markdown",
   "metadata": {},
   "source": [
    "### Notice that singles (1B) are are not in the dataframe we need to calculate it. But that's dasy Since \n",
    "$$ 1B = H - 2B - 3B - HR $$"
   ]
  },
  {
   "cell_type": "code",
   "execution_count": 9,
   "metadata": {},
   "outputs": [],
   "source": [
    "batting$X1B = batting$H - batting$X2B - batting$X3B - batting$HR"
   ]
  },
  {
   "cell_type": "code",
   "execution_count": 10,
   "metadata": {},
   "outputs": [],
   "source": [
    "#  Slugging average\n",
    "batting$SLG <- (batting$X1B + 2 * batting$X2B + 3 * batting$X3B + 4 * batting$HR) / batting$AB"
   ]
  },
  {
   "cell_type": "markdown",
   "metadata": {},
   "source": [
    "### How does the DF look now?"
   ]
  },
  {
   "cell_type": "code",
   "execution_count": 11,
   "metadata": {},
   "outputs": [
    {
     "name": "stdout",
     "output_type": "stream",
     "text": [
      "'data.frame':\t97889 obs. of  28 variables:\n",
      " $ playerID : Factor w/ 18107 levels \"aardsda01\",\"aaronha01\",..: 1 1 1 1 1 1 1 2 2 2 ...\n",
      " $ yearID   : int  2004 2006 2007 2008 2009 2010 2012 1954 1955 1956 ...\n",
      " $ stint    : int  1 1 1 1 1 1 1 1 1 1 ...\n",
      " $ teamID   : Factor w/ 149 levels \"ALT\",\"ANA\",\"ARI\",..: 117 35 33 16 116 116 93 80 80 80 ...\n",
      " $ lgID     : Factor w/ 6 levels \"AA\",\"AL\",\"FL\",..: 4 4 2 2 2 2 2 4 4 4 ...\n",
      " $ G        : int  11 45 25 47 73 53 1 122 153 153 ...\n",
      " $ G_batting: int  11 43 2 5 3 4 NA 122 153 153 ...\n",
      " $ AB       : int  0 2 0 1 0 0 NA 468 602 609 ...\n",
      " $ R        : int  0 0 0 0 0 0 NA 58 105 106 ...\n",
      " $ H        : int  0 0 0 0 0 0 NA 131 189 200 ...\n",
      " $ X2B      : int  0 0 0 0 0 0 NA 27 37 34 ...\n",
      " $ X3B      : int  0 0 0 0 0 0 NA 6 9 14 ...\n",
      " $ HR       : int  0 0 0 0 0 0 NA 13 27 26 ...\n",
      " $ RBI      : int  0 0 0 0 0 0 NA 69 106 92 ...\n",
      " $ SB       : int  0 0 0 0 0 0 NA 2 3 2 ...\n",
      " $ CS       : int  0 0 0 0 0 0 NA 2 1 4 ...\n",
      " $ BB       : int  0 0 0 0 0 0 NA 28 49 37 ...\n",
      " $ SO       : int  0 0 0 1 0 0 NA 39 61 54 ...\n",
      " $ IBB      : int  0 0 0 0 0 0 NA NA 5 6 ...\n",
      " $ HBP      : int  0 0 0 0 0 0 NA 3 3 2 ...\n",
      " $ SH       : int  0 1 0 0 0 0 NA 6 7 5 ...\n",
      " $ SF       : int  0 0 0 0 0 0 NA 4 4 7 ...\n",
      " $ GIDP     : int  0 0 0 0 0 0 NA 13 20 21 ...\n",
      " $ G_old    : int  11 45 2 5 NA NA NA 122 153 153 ...\n",
      " $ BA       : num  NaN 0 NaN 0 NaN ...\n",
      " $ OBP      : num  NaN 0 NaN 0 NaN ...\n",
      " $ X1B      : int  0 0 0 0 0 0 NA 85 116 126 ...\n",
      " $ SLG      : num  NaN 0 NaN 0 NaN ...\n"
     ]
    }
   ],
   "source": [
    "str(batting)"
   ]
  },
  {
   "cell_type": "code",
   "execution_count": 12,
   "metadata": {},
   "outputs": [],
   "source": [
    "sal <- read.csv('./data/Salaries.csv')"
   ]
  },
  {
   "cell_type": "code",
   "execution_count": 13,
   "metadata": {},
   "outputs": [
    {
     "data": {
      "text/plain": [
       "     yearID         teamID      lgID            playerID         salary        \n",
       " Min.   :1985   CLE    :  867   AL:11744   moyerja01:   25   Min.   :       0  \n",
       " 1st Qu.:1993   LAN    :  861   NL:12212   vizquom01:   24   1st Qu.:  250000  \n",
       " Median :1999   PHI    :  861              glavito02:   23   Median :  507950  \n",
       " Mean   :1999   SLN    :  858              bondsba01:   22   Mean   : 1864357  \n",
       " 3rd Qu.:2006   BAL    :  855              griffke02:   22   3rd Qu.: 2100000  \n",
       " Max.   :2013   NYA    :  855              thomeji01:   22   Max.   :33000000  \n",
       "                (Other):18799              (Other)  :23818                     "
      ]
     },
     "metadata": {},
     "output_type": "display_data"
    }
   ],
   "source": [
    "summary(sal)"
   ]
  },
  {
   "cell_type": "code",
   "execution_count": 14,
   "metadata": {},
   "outputs": [
    {
     "data": {
      "text/html": [
       "<table>\n",
       "<thead><tr><th scope=col>yearID</th><th scope=col>teamID</th><th scope=col>lgID</th><th scope=col>playerID</th><th scope=col>salary</th></tr></thead>\n",
       "<tbody>\n",
       "\t<tr><td>1985     </td><td>BAL      </td><td>AL       </td><td>murraed02</td><td>1472819  </td></tr>\n",
       "\t<tr><td>1985     </td><td>BAL      </td><td>AL       </td><td>lynnfr01 </td><td>1090000  </td></tr>\n",
       "\t<tr><td>1985     </td><td>BAL      </td><td>AL       </td><td>ripkeca01</td><td> 800000  </td></tr>\n",
       "\t<tr><td>1985     </td><td>BAL      </td><td>AL       </td><td>lacyle01 </td><td> 725000  </td></tr>\n",
       "</tbody>\n",
       "</table>\n"
      ],
      "text/latex": [
       "\\begin{tabular}{r|lllll}\n",
       " yearID & teamID & lgID & playerID & salary\\\\\n",
       "\\hline\n",
       "\t 1985      & BAL       & AL        & murraed02 & 1472819  \\\\\n",
       "\t 1985      & BAL       & AL        & lynnfr01  & 1090000  \\\\\n",
       "\t 1985      & BAL       & AL        & ripkeca01 &  800000  \\\\\n",
       "\t 1985      & BAL       & AL        & lacyle01  &  725000  \\\\\n",
       "\\end{tabular}\n"
      ],
      "text/markdown": [
       "\n",
       "yearID | teamID | lgID | playerID | salary | \n",
       "|---|---|---|---|\n",
       "| 1985      | BAL       | AL        | murraed02 | 1472819   | \n",
       "| 1985      | BAL       | AL        | lynnfr01  | 1090000   | \n",
       "| 1985      | BAL       | AL        | ripkeca01 |  800000   | \n",
       "| 1985      | BAL       | AL        | lacyle01  |  725000   | \n",
       "\n",
       "\n"
      ],
      "text/plain": [
       "  yearID teamID lgID playerID  salary \n",
       "1 1985   BAL    AL   murraed02 1472819\n",
       "2 1985   BAL    AL   lynnfr01  1090000\n",
       "3 1985   BAL    AL   ripkeca01  800000\n",
       "4 1985   BAL    AL   lacyle01   725000"
      ]
     },
     "metadata": {},
     "output_type": "display_data"
    }
   ],
   "source": [
    "head(sal, 4)"
   ]
  },
  {
   "cell_type": "code",
   "execution_count": 15,
   "metadata": {},
   "outputs": [
    {
     "data": {
      "text/plain": [
       "      playerID         yearID         stint           teamID        lgID      \n",
       " mcguide01:   31   Min.   :1871   Min.   :1.000   CHN    : 4720   AA  : 1890  \n",
       " henderi01:   29   1st Qu.:1931   1st Qu.:1.000   PHI    : 4621   AL  :44369  \n",
       " newsobo01:   29   Median :1970   Median :1.000   PIT    : 4575   FL  :  470  \n",
       " johnto01 :   28   Mean   :1962   Mean   :1.077   SLN    : 4535   NL  :49944  \n",
       " kaatji01 :   28   3rd Qu.:1995   3rd Qu.:1.000   CIN    : 4393   PL  :  147  \n",
       " ansonca01:   27   Max.   :2013   Max.   :5.000   CLE    : 4318   UA  :  332  \n",
       " (Other)  :97717                                  (Other):70727   NA's:  737  \n",
       "       G            G_batting            AB              R         \n",
       " Min.   :  1.00   Min.   :  0.00   Min.   :  0.0   Min.   :  0.00  \n",
       " 1st Qu.: 13.00   1st Qu.:  7.00   1st Qu.:  9.0   1st Qu.:  0.00  \n",
       " Median : 35.00   Median : 32.00   Median : 61.0   Median :  5.00  \n",
       " Mean   : 51.65   Mean   : 49.13   Mean   :154.1   Mean   : 20.47  \n",
       " 3rd Qu.: 81.00   3rd Qu.: 81.00   3rd Qu.:260.0   3rd Qu.: 31.00  \n",
       " Max.   :165.00   Max.   :165.00   Max.   :716.0   Max.   :192.00  \n",
       "                  NA's   :1406     NA's   :6413    NA's   :6413    \n",
       "       H               X2B            X3B               HR        \n",
       " Min.   :  0.00   Min.   : 0.0   Min.   : 0.000   Min.   : 0.000  \n",
       " 1st Qu.:  1.00   1st Qu.: 0.0   1st Qu.: 0.000   1st Qu.: 0.000  \n",
       " Median : 12.00   Median : 2.0   Median : 0.000   Median : 0.000  \n",
       " Mean   : 40.37   Mean   : 6.8   Mean   : 1.424   Mean   : 3.002  \n",
       " 3rd Qu.: 66.00   3rd Qu.:10.0   3rd Qu.: 2.000   3rd Qu.: 3.000  \n",
       " Max.   :262.00   Max.   :67.0   Max.   :36.000   Max.   :73.000  \n",
       " NA's   :6413     NA's   :6413   NA's   :6413     NA's   :6413    \n",
       "      RBI               SB                CS               BB        \n",
       " Min.   :  0.00   Min.   :  0.000   Min.   : 0.000   Min.   :  0.00  \n",
       " 1st Qu.:  0.00   1st Qu.:  0.000   1st Qu.: 0.000   1st Qu.:  0.00  \n",
       " Median :  5.00   Median :  0.000   Median : 0.000   Median :  4.00  \n",
       " Mean   : 18.47   Mean   :  3.265   Mean   : 1.385   Mean   : 14.21  \n",
       " 3rd Qu.: 28.00   3rd Qu.:  2.000   3rd Qu.: 1.000   3rd Qu.: 21.00  \n",
       " Max.   :191.00   Max.   :138.000   Max.   :42.000   Max.   :232.00  \n",
       " NA's   :6837     NA's   :7713      NA's   :29867    NA's   :6413    \n",
       "       SO              IBB              HBP               SH        \n",
       " Min.   :  0.00   Min.   :  0.00   Min.   : 0.000   Min.   : 0.000  \n",
       " 1st Qu.:  2.00   1st Qu.:  0.00   1st Qu.: 0.000   1st Qu.: 0.000  \n",
       " Median : 11.00   Median :  0.00   Median : 0.000   Median : 1.000  \n",
       " Mean   : 21.95   Mean   :  1.28   Mean   : 1.136   Mean   : 2.564  \n",
       " 3rd Qu.: 31.00   3rd Qu.:  1.00   3rd Qu.: 1.000   3rd Qu.: 3.000  \n",
       " Max.   :223.00   Max.   :120.00   Max.   :51.000   Max.   :67.000  \n",
       " NA's   :14251    NA's   :42977    NA's   :9233     NA's   :12751   \n",
       "       SF             GIDP           G_old              BA       \n",
       " Min.   : 0.0    Min.   : 0.00   Min.   :  0.00   Min.   :0.000  \n",
       " 1st Qu.: 0.0    1st Qu.: 0.00   1st Qu.: 11.00   1st Qu.:0.148  \n",
       " Median : 0.0    Median : 1.00   Median : 34.00   Median :0.231  \n",
       " Mean   : 1.2    Mean   : 3.33   Mean   : 50.99   Mean   :0.209  \n",
       " 3rd Qu.: 2.0    3rd Qu.: 5.00   3rd Qu.: 82.00   3rd Qu.:0.275  \n",
       " Max.   :19.0    Max.   :36.00   Max.   :165.00   Max.   :1.000  \n",
       " NA's   :42446   NA's   :32521   NA's   :5189     NA's   :13520  \n",
       "      OBP             X1B              SLG       \n",
       " Min.   :0.00    Min.   :  0.00   Min.   :0.000  \n",
       " 1st Qu.:0.19    1st Qu.:  1.00   1st Qu.:0.179  \n",
       " Median :0.29    Median :  9.00   Median :0.309  \n",
       " Mean   :0.26    Mean   : 29.14   Mean   :0.291  \n",
       " 3rd Qu.:0.34    3rd Qu.: 48.00   3rd Qu.:0.397  \n",
       " Max.   :1.00    Max.   :225.00   Max.   :4.000  \n",
       " NA's   :49115   NA's   :6413     NA's   :13520  "
      ]
     },
     "metadata": {},
     "output_type": "display_data"
    }
   ],
   "source": [
    "summary(batting)"
   ]
  },
  {
   "cell_type": "markdown",
   "metadata": {},
   "source": [
    "Note that **batting** data contain data all the way back to 1871. We only need need data after 1985 so that we may merge these two dataframes in order for our analysis to proceed. We re-assign batting using the _subset_ function in R"
   ]
  },
  {
   "cell_type": "code",
   "execution_count": 16,
   "metadata": {},
   "outputs": [],
   "source": [
    "batting <- subset(batting, yearID >= 1985)"
   ]
  },
  {
   "cell_type": "code",
   "execution_count": 17,
   "metadata": {},
   "outputs": [
    {
     "data": {
      "text/plain": [
       "      playerID         yearID         stint          teamID      lgID      \n",
       " moyerja01:   27   Min.   :1985   Min.   :1.00   SDN    : 1313   AA:    0  \n",
       " mulhote01:   26   1st Qu.:1993   1st Qu.:1.00   CLE    : 1306   AL:17226  \n",
       " weathda01:   26   Median :2000   Median :1.00   PIT    : 1299   FL:    0  \n",
       " maddugr01:   25   Mean   :2000   Mean   :1.08   NYN    : 1297   NL:18426  \n",
       " sierrru01:   25   3rd Qu.:2007   3rd Qu.:1.00   BOS    : 1279   PL:    0  \n",
       " thomeji01:   25   Max.   :2013   Max.   :4.00   CIN    : 1279   UA:    0  \n",
       " (Other)  :35498                                 (Other):27879             \n",
       "       G           G_batting            AB              R         \n",
       " Min.   :  1.0   Min.   :  0.00   Min.   :  0.0   Min.   :  0.00  \n",
       " 1st Qu.: 14.0   1st Qu.:  4.00   1st Qu.:  3.0   1st Qu.:  0.00  \n",
       " Median : 34.0   Median : 27.00   Median : 47.0   Median :  4.00  \n",
       " Mean   : 51.7   Mean   : 46.28   Mean   :144.7   Mean   : 19.44  \n",
       " 3rd Qu.: 77.0   3rd Qu.: 77.00   3rd Qu.:241.0   3rd Qu.: 30.00  \n",
       " Max.   :163.0   Max.   :163.00   Max.   :716.0   Max.   :152.00  \n",
       "                 NA's   :1406     NA's   :4377    NA's   :4377    \n",
       "       H               X2B              X3B               HR        \n",
       " Min.   :  0.00   Min.   : 0.000   Min.   : 0.000   Min.   : 0.000  \n",
       " 1st Qu.:  0.00   1st Qu.: 0.000   1st Qu.: 0.000   1st Qu.: 0.000  \n",
       " Median :  8.00   Median : 1.000   Median : 0.000   Median : 0.000  \n",
       " Mean   : 37.95   Mean   : 7.293   Mean   : 0.824   Mean   : 4.169  \n",
       " 3rd Qu.: 61.00   3rd Qu.:11.000   3rd Qu.: 1.000   3rd Qu.: 5.000  \n",
       " Max.   :262.00   Max.   :59.000   Max.   :23.000   Max.   :73.000  \n",
       " NA's   :4377     NA's   :4377     NA's   :4377     NA's   :4377    \n",
       "      RBI               SB                CS               BB        \n",
       " Min.   :  0.00   Min.   :  0.000   Min.   : 0.000   Min.   :  0.00  \n",
       " 1st Qu.:  0.00   1st Qu.:  0.000   1st Qu.: 0.000   1st Qu.:  0.00  \n",
       " Median :  3.00   Median :  0.000   Median : 0.000   Median :  3.00  \n",
       " Mean   : 18.41   Mean   :  2.811   Mean   : 1.219   Mean   : 14.06  \n",
       " 3rd Qu.: 27.00   3rd Qu.:  2.000   3rd Qu.: 1.000   3rd Qu.: 21.00  \n",
       " Max.   :165.00   Max.   :110.000   Max.   :29.000   Max.   :232.00  \n",
       " NA's   :4377     NA's   :4377      NA's   :4377     NA's   :4377    \n",
       "       SO              IBB               HBP               SH        \n",
       " Min.   :  0.00   Min.   :  0.000   Min.   : 0.000   Min.   : 0.000  \n",
       " 1st Qu.:  1.00   1st Qu.:  0.000   1st Qu.: 0.000   1st Qu.: 0.000  \n",
       " Median : 12.00   Median :  0.000   Median : 0.000   Median : 0.000  \n",
       " Mean   : 27.03   Mean   :  1.171   Mean   : 1.273   Mean   : 1.465  \n",
       " 3rd Qu.: 42.00   3rd Qu.:  1.000   3rd Qu.: 1.000   3rd Qu.: 2.000  \n",
       " Max.   :223.00   Max.   :120.000   Max.   :35.000   Max.   :39.000  \n",
       " NA's   :4377     NA's   :4378      NA's   :4387     NA's   :4377    \n",
       "       SF              GIDP           G_old             BA       \n",
       " Min.   : 0.000   Min.   : 0.00   Min.   :  0.0   Min.   :0.000  \n",
       " 1st Qu.: 0.000   1st Qu.: 0.00   1st Qu.: 11.0   1st Qu.:0.136  \n",
       " Median : 0.000   Median : 1.00   Median : 32.0   Median :0.233  \n",
       " Mean   : 1.212   Mean   : 3.25   Mean   : 49.7   Mean   :0.205  \n",
       " 3rd Qu.: 2.000   3rd Qu.: 5.00   3rd Qu.: 77.0   3rd Qu.:0.274  \n",
       " Max.   :17.000   Max.   :35.00   Max.   :163.0   Max.   :1.000  \n",
       " NA's   :4378     NA's   :4377    NA's   :5189    NA's   :8905   \n",
       "      OBP             X1B              SLG       \n",
       " Min.   :0.000   Min.   :  0.00   Min.   :0.000  \n",
       " 1st Qu.:0.188   1st Qu.:  0.00   1st Qu.:0.167  \n",
       " Median :0.296   Median :  6.00   Median :0.333  \n",
       " Mean   :0.262   Mean   : 25.66   Mean   :0.304  \n",
       " 3rd Qu.:0.342   3rd Qu.: 42.00   3rd Qu.:0.423  \n",
       " Max.   :1.000   Max.   :225.00   Max.   :4.000  \n",
       " NA's   :8821    NA's   :4377     NA's   :8905   "
      ]
     },
     "metadata": {},
     "output_type": "display_data"
    }
   ],
   "source": [
    "summary(batting)"
   ]
  },
  {
   "cell_type": "code",
   "execution_count": 18,
   "metadata": {},
   "outputs": [],
   "source": [
    "combo <- merge(batting, sal, by=c('playerID', 'yearID'))"
   ]
  },
  {
   "cell_type": "code",
   "execution_count": 19,
   "metadata": {},
   "outputs": [
    {
     "data": {
      "text/plain": [
       "      playerID         yearID         stint          teamID.x     lgID.x    \n",
       " moyerja01:   27   Min.   :1985   Min.   :1.000   LAN    :  940   AA:    0  \n",
       " thomeji01:   25   1st Qu.:1993   1st Qu.:1.000   PHI    :  937   AL:12292  \n",
       " weathda01:   25   Median :1999   Median :1.000   BOS    :  935   FL:    0  \n",
       " vizquom01:   24   Mean   :1999   Mean   :1.098   NYA    :  928   NL:13105  \n",
       " gaettga01:   23   3rd Qu.:2006   3rd Qu.:1.000   CLE    :  920   PL:    0  \n",
       " griffke02:   23   Max.   :2013   Max.   :4.000   SDN    :  914   UA:    0  \n",
       " (Other)  :25250                                  (Other):19823             \n",
       "       G            G_batting            AB              R         \n",
       " Min.   :  1.00   Min.   :  0.00   Min.   :  0.0   Min.   :  0.00  \n",
       " 1st Qu.: 26.00   1st Qu.:  8.00   1st Qu.:  5.0   1st Qu.:  0.00  \n",
       " Median : 50.00   Median : 42.00   Median : 85.0   Median :  9.00  \n",
       " Mean   : 64.06   Mean   : 57.58   Mean   :182.4   Mean   : 24.71  \n",
       " 3rd Qu.:101.00   3rd Qu.:101.00   3rd Qu.:336.0   3rd Qu.: 43.00  \n",
       " Max.   :163.00   Max.   :163.00   Max.   :716.0   Max.   :152.00  \n",
       "                  NA's   :906      NA's   :2661    NA's   :2661    \n",
       "       H               X2B              X3B               HR        \n",
       " Min.   :  0.00   Min.   : 0.000   Min.   : 0.000   Min.   : 0.000  \n",
       " 1st Qu.:  1.00   1st Qu.: 0.000   1st Qu.: 0.000   1st Qu.: 0.000  \n",
       " Median : 19.00   Median : 3.000   Median : 0.000   Median : 1.000  \n",
       " Mean   : 48.18   Mean   : 9.276   Mean   : 1.033   Mean   : 5.369  \n",
       " 3rd Qu.: 87.25   3rd Qu.:16.000   3rd Qu.: 1.000   3rd Qu.: 7.000  \n",
       " Max.   :262.00   Max.   :59.000   Max.   :23.000   Max.   :73.000  \n",
       " NA's   :2661     NA's   :2661     NA's   :2661     NA's   :2661    \n",
       "      RBI               SB                CS              BB        \n",
       " Min.   :  0.00   Min.   :  0.000   Min.   : 0.00   Min.   :  0.00  \n",
       " 1st Qu.:  0.00   1st Qu.:  0.000   1st Qu.: 0.00   1st Qu.:  0.00  \n",
       " Median :  8.00   Median :  0.000   Median : 0.00   Median :  6.00  \n",
       " Mean   : 23.56   Mean   :  3.568   Mean   : 1.54   Mean   : 17.98  \n",
       " 3rd Qu.: 39.00   3rd Qu.:  3.000   3rd Qu.: 2.00   3rd Qu.: 29.00  \n",
       " Max.   :165.00   Max.   :110.000   Max.   :29.00   Max.   :232.00  \n",
       " NA's   :2661     NA's   :2661      NA's   :2661    NA's   :2661    \n",
       "       SO              IBB               HBP               SH        \n",
       " Min.   :  0.00   Min.   :  0.000   Min.   : 0.000   Min.   : 0.000  \n",
       " 1st Qu.:  2.00   1st Qu.:  0.000   1st Qu.: 0.000   1st Qu.: 0.000  \n",
       " Median : 20.00   Median :  0.000   Median : 0.000   Median : 0.000  \n",
       " Mean   : 33.52   Mean   :  1.533   Mean   : 1.614   Mean   : 1.786  \n",
       " 3rd Qu.: 55.00   3rd Qu.:  2.000   3rd Qu.: 2.000   3rd Qu.: 2.000  \n",
       " Max.   :223.00   Max.   :120.000   Max.   :35.000   Max.   :39.000  \n",
       " NA's   :2661     NA's   :2662      NA's   :2670     NA's   :2661    \n",
       "       SF              GIDP            G_old              BA       \n",
       " Min.   : 0.000   Min.   : 0.000   Min.   :  0.00   Min.   :0.000  \n",
       " 1st Qu.: 0.000   1st Qu.: 0.000   1st Qu.: 20.00   1st Qu.:0.160  \n",
       " Median : 0.000   Median : 2.000   Median : 47.00   Median :0.242  \n",
       " Mean   : 1.554   Mean   : 4.127   Mean   : 61.43   Mean   :0.212  \n",
       " 3rd Qu.: 2.000   3rd Qu.: 7.000   3rd Qu.:101.00   3rd Qu.:0.276  \n",
       " Max.   :17.000   Max.   :35.000   Max.   :163.00   Max.   :1.000  \n",
       " NA's   :2662     NA's   :2661     NA's   :3414     NA's   :5618   \n",
       "      OBP             X1B             SLG           teamID.y     lgID.y    \n",
       " Min.   :0.000   Min.   :  0.0   Min.   :0.000   CLE    :  935   AL:12304  \n",
       " 1st Qu.:0.208   1st Qu.:  0.0   1st Qu.:0.200   PIT    :  932   NL:13093  \n",
       " Median :0.305   Median : 13.0   Median :0.351   PHI    :  931             \n",
       " Mean   :0.270   Mean   : 32.5   Mean   :0.317   SDN    :  923             \n",
       " 3rd Qu.:0.346   3rd Qu.: 59.0   3rd Qu.:0.432   LAN    :  921             \n",
       " Max.   :1.000   Max.   :225.0   Max.   :4.000   CIN    :  912             \n",
       " NA's   :5562    NA's   :2661    NA's   :5618    (Other):19843             \n",
       "     salary        \n",
       " Min.   :       0  \n",
       " 1st Qu.:  255000  \n",
       " Median :  550000  \n",
       " Mean   : 1879256  \n",
       " 3rd Qu.: 2150000  \n",
       " Max.   :33000000  \n",
       "                   "
      ]
     },
     "metadata": {},
     "output_type": "display_data"
    }
   ],
   "source": [
    "summary(combo)"
   ]
  },
  {
   "cell_type": "markdown",
   "metadata": {},
   "source": [
    "### Find the lost players by subsetting. \n",
    "As previously mentioned , the Oakland A's lost 3 key players during off-season. We want to get their statistics to see what we have to replace. The players lost were:\n",
    "\n",
    "- Frist Baseman 2000 AL MVP Jason Gambi (giambja01) to the New York Yankees\n",
    "- Outfielder Johnny Damon (damonjo01) to the Boston Red Sox\n",
    "- Infielder Rainer Gustavo \"Ray\" Olmedo (saenol01)"
   ]
  },
  {
   "cell_type": "code",
   "execution_count": 20,
   "metadata": {},
   "outputs": [],
   "source": [
    "lost_players <- subset(combo, playerID %in% c('giambja01', 'damonjo01', 'saenzol01'))"
   ]
  },
  {
   "cell_type": "code",
   "execution_count": 21,
   "metadata": {},
   "outputs": [
    {
     "data": {
      "text/html": [
       "<table>\n",
       "<thead><tr><th></th><th scope=col>playerID</th><th scope=col>yearID</th><th scope=col>stint</th><th scope=col>teamID.x</th><th scope=col>lgID.x</th><th scope=col>G</th><th scope=col>G_batting</th><th scope=col>AB</th><th scope=col>R</th><th scope=col>H</th><th scope=col>⋯</th><th scope=col>SF</th><th scope=col>GIDP</th><th scope=col>G_old</th><th scope=col>BA</th><th scope=col>OBP</th><th scope=col>X1B</th><th scope=col>SLG</th><th scope=col>teamID.y</th><th scope=col>lgID.y</th><th scope=col>salary</th></tr></thead>\n",
       "<tbody>\n",
       "\t<tr><th scope=row>5135</th><td>damonjo01</td><td>1995     </td><td>1        </td><td>KCA      </td><td>AL       </td><td> 47      </td><td> 47      </td><td>188      </td><td> 32      </td><td> 53      </td><td>⋯        </td><td> 3       </td><td> 2       </td><td> 47      </td><td>0.2819149</td><td>0.3235294</td><td> 34      </td><td>0.4414894</td><td>KCA      </td><td>AL       </td><td> 109000  </td></tr>\n",
       "\t<tr><th scope=row>5136</th><td>damonjo01</td><td>1996     </td><td>1        </td><td>KCA      </td><td>AL       </td><td>145      </td><td>145      </td><td>517      </td><td> 61      </td><td>140      </td><td>⋯        </td><td> 5       </td><td> 4       </td><td>145      </td><td>0.2707930</td><td>0.3129496</td><td>107      </td><td>0.3675048</td><td>KCA      </td><td>AL       </td><td> 180000  </td></tr>\n",
       "\t<tr><th scope=row>5137</th><td>damonjo01</td><td>1997     </td><td>1        </td><td>KCA      </td><td>AL       </td><td>146      </td><td>146      </td><td>472      </td><td> 70      </td><td>130      </td><td>⋯        </td><td> 1       </td><td> 3       </td><td>146      </td><td>0.2754237</td><td>0.3378378</td><td>102      </td><td>0.3855932</td><td>KCA      </td><td>AL       </td><td> 240000  </td></tr>\n",
       "\t<tr><th scope=row>5138</th><td>damonjo01</td><td>1998     </td><td>1        </td><td>KCA      </td><td>AL       </td><td>161      </td><td>161      </td><td>642      </td><td>104      </td><td>178      </td><td>⋯        </td><td> 3       </td><td> 4       </td><td>161      </td><td>0.2772586</td><td>0.3394625</td><td>120      </td><td>0.4392523</td><td>KCA      </td><td>AL       </td><td> 460000  </td></tr>\n",
       "\t<tr><th scope=row>5139</th><td>damonjo01</td><td>1999     </td><td>1        </td><td>KCA      </td><td>AL       </td><td>145      </td><td>145      </td><td>583      </td><td>101      </td><td>179      </td><td>⋯        </td><td> 4       </td><td>13       </td><td>145      </td><td>0.3070326</td><td>0.3789954</td><td>117      </td><td>0.4768439</td><td>KCA      </td><td>AL       </td><td>2100000  </td></tr>\n",
       "\t<tr><th scope=row>5140</th><td>damonjo01</td><td>2000     </td><td>1        </td><td>KCA      </td><td>AL       </td><td>159      </td><td>159      </td><td>655      </td><td>136      </td><td>214      </td><td>⋯        </td><td>12       </td><td> 7       </td><td>159      </td><td>0.3267176</td><td>0.3819918</td><td>146      </td><td>0.4946565</td><td>KCA      </td><td>AL       </td><td>4000000  </td></tr>\n",
       "</tbody>\n",
       "</table>\n"
      ],
      "text/latex": [
       "\\begin{tabular}{r|lllllllllllllllllllllllllllllll}\n",
       "  & playerID & yearID & stint & teamID.x & lgID.x & G & G\\_batting & AB & R & H & ⋯ & SF & GIDP & G\\_old & BA & OBP & X1B & SLG & teamID.y & lgID.y & salary\\\\\n",
       "\\hline\n",
       "\t5135 & damonjo01 & 1995      & 1         & KCA       & AL        &  47       &  47       & 188       &  32       &  53       & ⋯         &  3        &  2        &  47       & 0.2819149 & 0.3235294 &  34       & 0.4414894 & KCA       & AL        &  109000  \\\\\n",
       "\t5136 & damonjo01 & 1996      & 1         & KCA       & AL        & 145       & 145       & 517       &  61       & 140       & ⋯         &  5        &  4        & 145       & 0.2707930 & 0.3129496 & 107       & 0.3675048 & KCA       & AL        &  180000  \\\\\n",
       "\t5137 & damonjo01 & 1997      & 1         & KCA       & AL        & 146       & 146       & 472       &  70       & 130       & ⋯         &  1        &  3        & 146       & 0.2754237 & 0.3378378 & 102       & 0.3855932 & KCA       & AL        &  240000  \\\\\n",
       "\t5138 & damonjo01 & 1998      & 1         & KCA       & AL        & 161       & 161       & 642       & 104       & 178       & ⋯         &  3        &  4        & 161       & 0.2772586 & 0.3394625 & 120       & 0.4392523 & KCA       & AL        &  460000  \\\\\n",
       "\t5139 & damonjo01 & 1999      & 1         & KCA       & AL        & 145       & 145       & 583       & 101       & 179       & ⋯         &  4        & 13        & 145       & 0.3070326 & 0.3789954 & 117       & 0.4768439 & KCA       & AL        & 2100000  \\\\\n",
       "\t5140 & damonjo01 & 2000      & 1         & KCA       & AL        & 159       & 159       & 655       & 136       & 214       & ⋯         & 12        &  7        & 159       & 0.3267176 & 0.3819918 & 146       & 0.4946565 & KCA       & AL        & 4000000  \\\\\n",
       "\\end{tabular}\n"
      ],
      "text/markdown": [
       "\n",
       "| <!--/--> | playerID | yearID | stint | teamID.x | lgID.x | G | G_batting | AB | R | H | ⋯ | SF | GIDP | G_old | BA | OBP | X1B | SLG | teamID.y | lgID.y | salary | \n",
       "|---|---|---|---|---|---|\n",
       "| 5135 | damonjo01 | 1995      | 1         | KCA       | AL        |  47       |  47       | 188       |  32       |  53       | ⋯         |  3        |  2        |  47       | 0.2819149 | 0.3235294 |  34       | 0.4414894 | KCA       | AL        |  109000   | \n",
       "| 5136 | damonjo01 | 1996      | 1         | KCA       | AL        | 145       | 145       | 517       |  61       | 140       | ⋯         |  5        |  4        | 145       | 0.2707930 | 0.3129496 | 107       | 0.3675048 | KCA       | AL        |  180000   | \n",
       "| 5137 | damonjo01 | 1997      | 1         | KCA       | AL        | 146       | 146       | 472       |  70       | 130       | ⋯         |  1        |  3        | 146       | 0.2754237 | 0.3378378 | 102       | 0.3855932 | KCA       | AL        |  240000   | \n",
       "| 5138 | damonjo01 | 1998      | 1         | KCA       | AL        | 161       | 161       | 642       | 104       | 178       | ⋯         |  3        |  4        | 161       | 0.2772586 | 0.3394625 | 120       | 0.4392523 | KCA       | AL        |  460000   | \n",
       "| 5139 | damonjo01 | 1999      | 1         | KCA       | AL        | 145       | 145       | 583       | 101       | 179       | ⋯         |  4        | 13        | 145       | 0.3070326 | 0.3789954 | 117       | 0.4768439 | KCA       | AL        | 2100000   | \n",
       "| 5140 | damonjo01 | 2000      | 1         | KCA       | AL        | 159       | 159       | 655       | 136       | 214       | ⋯         | 12        |  7        | 159       | 0.3267176 | 0.3819918 | 146       | 0.4946565 | KCA       | AL        | 4000000   | \n",
       "\n",
       "\n"
      ],
      "text/plain": [
       "     playerID  yearID stint teamID.x lgID.x G   G_batting AB  R   H   ⋯ SF GIDP\n",
       "5135 damonjo01 1995   1     KCA      AL      47  47       188  32  53 ⋯  3  2  \n",
       "5136 damonjo01 1996   1     KCA      AL     145 145       517  61 140 ⋯  5  4  \n",
       "5137 damonjo01 1997   1     KCA      AL     146 146       472  70 130 ⋯  1  3  \n",
       "5138 damonjo01 1998   1     KCA      AL     161 161       642 104 178 ⋯  3  4  \n",
       "5139 damonjo01 1999   1     KCA      AL     145 145       583 101 179 ⋯  4 13  \n",
       "5140 damonjo01 2000   1     KCA      AL     159 159       655 136 214 ⋯ 12  7  \n",
       "     G_old BA        OBP       X1B SLG       teamID.y lgID.y salary \n",
       "5135  47   0.2819149 0.3235294  34 0.4414894 KCA      AL      109000\n",
       "5136 145   0.2707930 0.3129496 107 0.3675048 KCA      AL      180000\n",
       "5137 146   0.2754237 0.3378378 102 0.3855932 KCA      AL      240000\n",
       "5138 161   0.2772586 0.3394625 120 0.4392523 KCA      AL      460000\n",
       "5139 145   0.3070326 0.3789954 117 0.4768439 KCA      AL     2100000\n",
       "5140 159   0.3267176 0.3819918 146 0.4946565 KCA      AL     4000000"
      ]
     },
     "metadata": {},
     "output_type": "display_data"
    }
   ],
   "source": [
    "head(lost_players)"
   ]
  },
  {
   "cell_type": "markdown",
   "metadata": {},
   "source": [
    "Since all of these players were lost after 2001 in the off season, let us only concern ourselves with data from 2001."
   ]
  },
  {
   "cell_type": "code",
   "execution_count": 22,
   "metadata": {},
   "outputs": [],
   "source": [
    "lost_players <- subset(lost_players, yearID %in% 2001)"
   ]
  },
  {
   "cell_type": "code",
   "execution_count": 23,
   "metadata": {},
   "outputs": [
    {
     "data": {
      "text/html": [
       "<table>\n",
       "<thead><tr><th></th><th scope=col>playerID</th><th scope=col>yearID</th><th scope=col>stint</th><th scope=col>teamID.x</th><th scope=col>lgID.x</th><th scope=col>G</th><th scope=col>G_batting</th><th scope=col>AB</th><th scope=col>R</th><th scope=col>H</th><th scope=col>⋯</th><th scope=col>SF</th><th scope=col>GIDP</th><th scope=col>G_old</th><th scope=col>BA</th><th scope=col>OBP</th><th scope=col>X1B</th><th scope=col>SLG</th><th scope=col>teamID.y</th><th scope=col>lgID.y</th><th scope=col>salary</th></tr></thead>\n",
       "<tbody>\n",
       "\t<tr><th scope=row>5141</th><td>damonjo01</td><td>2001     </td><td>1        </td><td>OAK      </td><td>AL       </td><td>155      </td><td>155      </td><td>644      </td><td>108      </td><td>165      </td><td>⋯        </td><td>4        </td><td> 7       </td><td>155      </td><td>0.2562112</td><td>0.3235294</td><td>118      </td><td>0.3633540</td><td>OAK      </td><td>AL       </td><td>7100000  </td></tr>\n",
       "\t<tr><th scope=row>7878</th><td>giambja01</td><td>2001     </td><td>1        </td><td>OAK      </td><td>AL       </td><td>154      </td><td>154      </td><td>520      </td><td>109      </td><td>178      </td><td>⋯        </td><td>9        </td><td>17       </td><td>154      </td><td>0.3423077</td><td>0.4769001</td><td> 91      </td><td>0.6596154</td><td>OAK      </td><td>AL       </td><td>4103333  </td></tr>\n",
       "\t<tr><th scope=row>20114</th><td>saenzol01</td><td>2001     </td><td>1        </td><td>OAK      </td><td>AL       </td><td>106      </td><td>106      </td><td>305      </td><td> 33      </td><td> 67      </td><td>⋯        </td><td>3        </td><td> 9       </td><td>106      </td><td>0.2196721</td><td>0.2911765</td><td> 36      </td><td>0.3836066</td><td>OAK      </td><td>AL       </td><td> 290000  </td></tr>\n",
       "</tbody>\n",
       "</table>\n"
      ],
      "text/latex": [
       "\\begin{tabular}{r|lllllllllllllllllllllllllllllll}\n",
       "  & playerID & yearID & stint & teamID.x & lgID.x & G & G\\_batting & AB & R & H & ⋯ & SF & GIDP & G\\_old & BA & OBP & X1B & SLG & teamID.y & lgID.y & salary\\\\\n",
       "\\hline\n",
       "\t5141 & damonjo01 & 2001      & 1         & OAK       & AL        & 155       & 155       & 644       & 108       & 165       & ⋯         & 4         &  7        & 155       & 0.2562112 & 0.3235294 & 118       & 0.3633540 & OAK       & AL        & 7100000  \\\\\n",
       "\t7878 & giambja01 & 2001      & 1         & OAK       & AL        & 154       & 154       & 520       & 109       & 178       & ⋯         & 9         & 17        & 154       & 0.3423077 & 0.4769001 &  91       & 0.6596154 & OAK       & AL        & 4103333  \\\\\n",
       "\t20114 & saenzol01 & 2001      & 1         & OAK       & AL        & 106       & 106       & 305       &  33       &  67       & ⋯         & 3         &  9        & 106       & 0.2196721 & 0.2911765 &  36       & 0.3836066 & OAK       & AL        &  290000  \\\\\n",
       "\\end{tabular}\n"
      ],
      "text/markdown": [
       "\n",
       "| <!--/--> | playerID | yearID | stint | teamID.x | lgID.x | G | G_batting | AB | R | H | ⋯ | SF | GIDP | G_old | BA | OBP | X1B | SLG | teamID.y | lgID.y | salary | \n",
       "|---|---|---|\n",
       "| 5141 | damonjo01 | 2001      | 1         | OAK       | AL        | 155       | 155       | 644       | 108       | 165       | ⋯         | 4         |  7        | 155       | 0.2562112 | 0.3235294 | 118       | 0.3633540 | OAK       | AL        | 7100000   | \n",
       "| 7878 | giambja01 | 2001      | 1         | OAK       | AL        | 154       | 154       | 520       | 109       | 178       | ⋯         | 9         | 17        | 154       | 0.3423077 | 0.4769001 |  91       | 0.6596154 | OAK       | AL        | 4103333   | \n",
       "| 20114 | saenzol01 | 2001      | 1         | OAK       | AL        | 106       | 106       | 305       |  33       |  67       | ⋯         | 3         |  9        | 106       | 0.2196721 | 0.2911765 |  36       | 0.3836066 | OAK       | AL        |  290000   | \n",
       "\n",
       "\n"
      ],
      "text/plain": [
       "      playerID  yearID stint teamID.x lgID.x G   G_batting AB  R   H   ⋯ SF\n",
       "5141  damonjo01 2001   1     OAK      AL     155 155       644 108 165 ⋯ 4 \n",
       "7878  giambja01 2001   1     OAK      AL     154 154       520 109 178 ⋯ 9 \n",
       "20114 saenzol01 2001   1     OAK      AL     106 106       305  33  67 ⋯ 3 \n",
       "      GIDP G_old BA        OBP       X1B SLG       teamID.y lgID.y salary \n",
       "5141   7   155   0.2562112 0.3235294 118 0.3633540 OAK      AL     7100000\n",
       "7878  17   154   0.3423077 0.4769001  91 0.6596154 OAK      AL     4103333\n",
       "20114  9   106   0.2196721 0.2911765  36 0.3836066 OAK      AL      290000"
      ]
     },
     "metadata": {},
     "output_type": "display_data"
    }
   ],
   "source": [
    "lost_players "
   ]
  },
  {
   "cell_type": "markdown",
   "metadata": {},
   "source": [
    "Let us go ahead and drop the unncessary columns from this dataset. Specifically we only want the following columns:\n",
    "\n",
    "- playerID\n",
    "- H\n",
    "- X2B\n",
    "- X3B\n",
    "- HR\n",
    "- OBP\n",
    "- SLG\n",
    "- BA\n",
    "- AB"
   ]
  },
  {
   "cell_type": "code",
   "execution_count": 24,
   "metadata": {},
   "outputs": [],
   "source": [
    "# Create a list of columns to keep\n",
    "keeps <- c('playerID', 'H', 'X2B', 'X3B', 'HR', 'OBP', 'SLG', 'BA', 'AB')"
   ]
  },
  {
   "cell_type": "code",
   "execution_count": 25,
   "metadata": {},
   "outputs": [],
   "source": [
    "lost_players <- subset(lost_players, select = keeps)"
   ]
  },
  {
   "cell_type": "code",
   "execution_count": 26,
   "metadata": {},
   "outputs": [
    {
     "data": {
      "text/html": [
       "<table>\n",
       "<thead><tr><th></th><th scope=col>playerID</th><th scope=col>H</th><th scope=col>X2B</th><th scope=col>X3B</th><th scope=col>HR</th><th scope=col>OBP</th><th scope=col>SLG</th><th scope=col>BA</th><th scope=col>AB</th></tr></thead>\n",
       "<tbody>\n",
       "\t<tr><th scope=row>5141</th><td>damonjo01</td><td>165      </td><td>34       </td><td>4        </td><td> 9       </td><td>0.3235294</td><td>0.3633540</td><td>0.2562112</td><td>644      </td></tr>\n",
       "\t<tr><th scope=row>7878</th><td>giambja01</td><td>178      </td><td>47       </td><td>2        </td><td>38       </td><td>0.4769001</td><td>0.6596154</td><td>0.3423077</td><td>520      </td></tr>\n",
       "\t<tr><th scope=row>20114</th><td>saenzol01</td><td> 67      </td><td>21       </td><td>1        </td><td> 9       </td><td>0.2911765</td><td>0.3836066</td><td>0.2196721</td><td>305      </td></tr>\n",
       "</tbody>\n",
       "</table>\n"
      ],
      "text/latex": [
       "\\begin{tabular}{r|lllllllll}\n",
       "  & playerID & H & X2B & X3B & HR & OBP & SLG & BA & AB\\\\\n",
       "\\hline\n",
       "\t5141 & damonjo01 & 165       & 34        & 4         &  9        & 0.3235294 & 0.3633540 & 0.2562112 & 644      \\\\\n",
       "\t7878 & giambja01 & 178       & 47        & 2         & 38        & 0.4769001 & 0.6596154 & 0.3423077 & 520      \\\\\n",
       "\t20114 & saenzol01 &  67       & 21        & 1         &  9        & 0.2911765 & 0.3836066 & 0.2196721 & 305      \\\\\n",
       "\\end{tabular}\n"
      ],
      "text/markdown": [
       "\n",
       "| <!--/--> | playerID | H | X2B | X3B | HR | OBP | SLG | BA | AB | \n",
       "|---|---|---|\n",
       "| 5141 | damonjo01 | 165       | 34        | 4         |  9        | 0.3235294 | 0.3633540 | 0.2562112 | 644       | \n",
       "| 7878 | giambja01 | 178       | 47        | 2         | 38        | 0.4769001 | 0.6596154 | 0.3423077 | 520       | \n",
       "| 20114 | saenzol01 |  67       | 21        | 1         |  9        | 0.2911765 | 0.3836066 | 0.2196721 | 305       | \n",
       "\n",
       "\n"
      ],
      "text/plain": [
       "      playerID  H   X2B X3B HR OBP       SLG       BA        AB \n",
       "5141  damonjo01 165 34  4    9 0.3235294 0.3633540 0.2562112 644\n",
       "7878  giambja01 178 47  2   38 0.4769001 0.6596154 0.3423077 520\n",
       "20114 saenzol01  67 21  1    9 0.2911765 0.3836066 0.2196721 305"
      ]
     },
     "metadata": {},
     "output_type": "display_data"
    }
   ],
   "source": [
    "lost_players"
   ]
  },
  {
   "cell_type": "markdown",
   "metadata": {},
   "source": [
    "## Replacement Players\n",
    "\n",
    "Now our task is to find replacment players for those that we have lost. Subjected to these constrains of course:\n",
    "\n",
    "- The total combined salary of the three players cannot exceed 15 million dollars.\n",
    "- Their main combined number of at bats (AB) needs to be equal to or greater than the lost players\n",
    "- Their mean OBP had to equal to or greater than the mean OBP of lost players."
   ]
  },
  {
   "cell_type": "markdown",
   "metadata": {},
   "source": [
    "Let us first compute the combined at bats (AB) of lost players and their mean OBP. These are to be used\n",
    "as threasholds in our player replacement scheme. "
   ]
  },
  {
   "cell_type": "code",
   "execution_count": 27,
   "metadata": {},
   "outputs": [
    {
     "data": {
      "text/html": [
       "1469"
      ],
      "text/latex": [
       "1469"
      ],
      "text/markdown": [
       "1469"
      ],
      "text/plain": [
       "[1] 1469"
      ]
     },
     "metadata": {},
     "output_type": "display_data"
    }
   ],
   "source": [
    "# Lost players' combined AB\n",
    "lp_combined_AB = sum(lost_players$AB)\n",
    "lp_combined_AB"
   ]
  },
  {
   "cell_type": "code",
   "execution_count": 28,
   "metadata": {},
   "outputs": [
    {
     "data": {
      "text/html": [
       "0.363868677128079"
      ],
      "text/latex": [
       "0.363868677128079"
      ],
      "text/markdown": [
       "0.363868677128079"
      ],
      "text/plain": [
       "[1] 0.3638687"
      ]
     },
     "metadata": {},
     "output_type": "display_data"
    }
   ],
   "source": [
    "# lost players' mean OBP\n",
    "lp_mean_OBP = mean(lost_players$OBP)\n",
    "lp_mean_OBP"
   ]
  },
  {
   "cell_type": "code",
   "execution_count": 29,
   "metadata": {},
   "outputs": [],
   "source": [
    "salary_cap = 15000000"
   ]
  },
  {
   "cell_type": "code",
   "execution_count": 30,
   "metadata": {},
   "outputs": [],
   "source": [
    "combo_2001 = subset(combo, yearID %in% 2001)"
   ]
  },
  {
   "cell_type": "code",
   "execution_count": 31,
   "metadata": {},
   "outputs": [],
   "source": [
    "combo_keeps = c('playerID', 'H', 'X2B', 'X3B', 'HR', 'OBP', 'SLG', 'BA', 'AB', 'salary')"
   ]
  },
  {
   "cell_type": "code",
   "execution_count": 32,
   "metadata": {},
   "outputs": [],
   "source": [
    "combo_2001 = subset(combo_2001, select = combo_keeps)"
   ]
  },
  {
   "cell_type": "code",
   "execution_count": 111,
   "metadata": {},
   "outputs": [
    {
     "data": {
      "text/html": [
       "<table>\n",
       "<thead><tr><th></th><th scope=col>playerID</th><th scope=col>H</th><th scope=col>X2B</th><th scope=col>X3B</th><th scope=col>HR</th><th scope=col>OBP</th><th scope=col>SLG</th><th scope=col>BA</th><th scope=col>AB</th><th scope=col>salary</th></tr></thead>\n",
       "<tbody>\n",
       "\t<tr><th scope=row>17</th><td>abbotje01 </td><td> 11       </td><td> 3        </td><td>0         </td><td> 0        </td><td>0.3260870 </td><td>0.33333333</td><td>0.26190476</td><td> 42       </td><td> 300000   </td></tr>\n",
       "\t<tr><th scope=row>37</th><td>abbotku01 </td><td>  2       </td><td> 0        </td><td>0         </td><td> 0        </td><td>0.2222222 </td><td>0.22222222</td><td>0.22222222</td><td>  9       </td><td> 600000   </td></tr>\n",
       "\t<tr><th scope=row>44</th><td>abbotpa01 </td><td>  1       </td><td> 0        </td><td>0         </td><td> 0        </td><td>0.2500000 </td><td>0.25000000</td><td>0.25000000</td><td>  4       </td><td>1700000   </td></tr>\n",
       "\t<tr><th scope=row>62</th><td>abreubo01 </td><td>170       </td><td>48        </td><td>4         </td><td>31        </td><td>0.3934659 </td><td>0.54251701</td><td>0.28911565</td><td>588       </td><td>4983000   </td></tr>\n",
       "\t<tr><th scope=row>130</th><td>adamste01 </td><td>  2       </td><td> 1        </td><td>0         </td><td> 0        </td><td>0.1162791 </td><td>0.07692308</td><td>0.05128205</td><td> 39       </td><td>2600000   </td></tr>\n",
       "\t<tr><th scope=row>157</th><td>agbaybe01 </td><td> 82       </td><td>14        </td><td>2         </td><td> 6        </td><td>0.3639053 </td><td>0.39864865</td><td>0.27702703</td><td>296       </td><td> 260000   </td></tr>\n",
       "</tbody>\n",
       "</table>\n"
      ],
      "text/latex": [
       "\\begin{tabular}{r|llllllllll}\n",
       "  & playerID & H & X2B & X3B & HR & OBP & SLG & BA & AB & salary\\\\\n",
       "\\hline\n",
       "\t17 & abbotje01  &  11        &  3         & 0          &  0         & 0.3260870  & 0.33333333 & 0.26190476 &  42        &  300000   \\\\\n",
       "\t37 & abbotku01  &   2        &  0         & 0          &  0         & 0.2222222  & 0.22222222 & 0.22222222 &   9        &  600000   \\\\\n",
       "\t44 & abbotpa01  &   1        &  0         & 0          &  0         & 0.2500000  & 0.25000000 & 0.25000000 &   4        & 1700000   \\\\\n",
       "\t62 & abreubo01  & 170        & 48         & 4          & 31         & 0.3934659  & 0.54251701 & 0.28911565 & 588        & 4983000   \\\\\n",
       "\t130 & adamste01  &   2        &  1         & 0          &  0         & 0.1162791  & 0.07692308 & 0.05128205 &  39        & 2600000   \\\\\n",
       "\t157 & agbaybe01  &  82        & 14         & 2          &  6         & 0.3639053  & 0.39864865 & 0.27702703 & 296        &  260000   \\\\\n",
       "\\end{tabular}\n"
      ],
      "text/markdown": [
       "\n",
       "| <!--/--> | playerID | H | X2B | X3B | HR | OBP | SLG | BA | AB | salary | \n",
       "|---|---|---|---|---|---|\n",
       "| 17 | abbotje01  |  11        |  3         | 0          |  0         | 0.3260870  | 0.33333333 | 0.26190476 |  42        |  300000    | \n",
       "| 37 | abbotku01  |   2        |  0         | 0          |  0         | 0.2222222  | 0.22222222 | 0.22222222 |   9        |  600000    | \n",
       "| 44 | abbotpa01  |   1        |  0         | 0          |  0         | 0.2500000  | 0.25000000 | 0.25000000 |   4        | 1700000    | \n",
       "| 62 | abreubo01  | 170        | 48         | 4          | 31         | 0.3934659  | 0.54251701 | 0.28911565 | 588        | 4983000    | \n",
       "| 130 | adamste01  |   2        |  1         | 0          |  0         | 0.1162791  | 0.07692308 | 0.05128205 |  39        | 2600000    | \n",
       "| 157 | agbaybe01  |  82        | 14         | 2          |  6         | 0.3639053  | 0.39864865 | 0.27702703 | 296        |  260000    | \n",
       "\n",
       "\n"
      ],
      "text/plain": [
       "    playerID  H   X2B X3B HR OBP       SLG        BA         AB  salary \n",
       "17  abbotje01  11  3  0    0 0.3260870 0.33333333 0.26190476  42  300000\n",
       "37  abbotku01   2  0  0    0 0.2222222 0.22222222 0.22222222   9  600000\n",
       "44  abbotpa01   1  0  0    0 0.2500000 0.25000000 0.25000000   4 1700000\n",
       "62  abreubo01 170 48  4   31 0.3934659 0.54251701 0.28911565 588 4983000\n",
       "130 adamste01   2  1  0    0 0.1162791 0.07692308 0.05128205  39 2600000\n",
       "157 agbaybe01  82 14  2    6 0.3639053 0.39864865 0.27702703 296  260000"
      ]
     },
     "metadata": {},
     "output_type": "display_data"
    }
   ],
   "source": [
    "head(combo_2001)"
   ]
  },
  {
   "cell_type": "markdown",
   "metadata": {},
   "source": [
    "\n",
    "# Possible solution outlines\n",
    "\n",
    "One way to proceed is to use 'groupby' statements to group these players by the various constraints and then with a bit of dumb luck we will be able to narrow down the choices for a possible combination of three players. But in here let's try to find _all_ of the possible combinations of players that satisfy the given constraints. This type of a problem is what is known as _constraint programming_ or a _constraint satisfaction problem_.\n",
    " \n",
    "## Options 1 (Brute Force):\n",
    "\n",
    "The obvious way is to find all possible combinations of players taken 3 at a time and the filter out the unwanted entries according to the given constraints. But note that this produces $$C(915, 3) = 127,258,505$$ possible combinations. This is obviously not a very elegent solution as we will quicly run out of memory to hold these combintations. This is certainly not scalable.\n",
    "\n",
    "\n",
    "## Options 2: (Using integer programming)\n",
    "\n",
    "We can use the [*LpSolve*](https://cran.r-project.org/web/packages/lpSolve) library to solve the problem. Documentation as well as an example of a solution of a sample problem may be found [here](https://cran.r-project.org/web/packages/lpSolve/lpSolve.pdf)\n",
    "\n",
    "### Set up of the problem.\n",
    "\n",
    "\n",
    "We want to find exactly three players subjected to the above constraints. Let $x, y$ and $z$ be three boolean masks of the players. For example if `abbotje01` the first player is in the team then his boolean mask will be of the form \n",
    "\n",
    "$$\n",
    "x = [1, 0, 0, \\cdots, 0,0]\n",
    "$$\n",
    "\n",
    "where $x$ is a vector of length 915 (the total number of player available for selection). Our integer programming\n",
    "problem is now of the following form.\n",
    "\n",
    "Find optimal $x,y$ and $z$ subjected to\n",
    "\n",
    "$$\n",
    "x + y + z = 3, \\\\\n",
    "x\\$salary + y\\$salary + z\\$salary \\leq 15e6, \\\\\n",
    "x\\$AB + y\\$AB + z\\$AB \\geq 1469, \\\\\n",
    "x\\$OBP + y\\$OBP + z\\$OBP \\geq 3 * 0.3638\n",
    "$$"
   ]
  },
  {
   "cell_type": "markdown",
   "metadata": {},
   "source": [
    "## Solution"
   ]
  },
  {
   "cell_type": "code",
   "execution_count": 36,
   "metadata": {},
   "outputs": [],
   "source": [
    "library(lpSolve)"
   ]
  },
  {
   "cell_type": "code",
   "execution_count": 37,
   "metadata": {},
   "outputs": [],
   "source": [
    "# Create the objective function\n",
    "f.obj <- rep(1, nrow(combo_2001))"
   ]
  },
  {
   "cell_type": "code",
   "execution_count": 112,
   "metadata": {},
   "outputs": [],
   "source": [
    "f.con <-\n",
    "    matrix(c(f.obj,\n",
    "             as.vector(combo_2001$salary),\n",
    "             as.vector(combo_2001$AB),\n",
    "             as.vector(combo_2001$OBP)), nrow=4, byrow=TRUE)\n",
    "\n",
    "# whether equal, greter than or less than\n",
    "f.dir <- c('==', '<=', '>=', '>=')\n",
    "\n",
    "\n",
    "# Create the right hand sice of the contraints.\n",
    "f.rhs <- c(3, # number of players\n",
    "           salary_cap, # max combined salary\n",
    "           lp_combined_AB, # minimum combined AB\n",
    "           3 * lp_mean_OBP # minimum combined mean OPB\n",
    "          )"
   ]
  },
  {
   "cell_type": "code",
   "execution_count": 113,
   "metadata": {},
   "outputs": [],
   "source": [
    "mylp <- lp (\"max\", f.obj, f.con, f.dir, f.rhs, all.bin=TRUE, num.bin.solns = 20)\n",
    "numcols <- 915\n",
    "numsols <- mylp$num.bin.solns\n",
    "\n",
    "solutions <- matrix(head(mylp$solution, numcols*numsols), nrow=numsols, byrow=TRUE)"
   ]
  },
  {
   "cell_type": "markdown",
   "metadata": {},
   "source": [
    "In the above `solutions` is a $915 \\times 20$ matrix in which each row is a possible solution to the problem. We have decided to find only $20$ solutions, but that number may be increased as desired. For examaple if a solution\n",
    "is of the form\n",
    "\n",
    "$$\n",
    "[0, 1, 1, 0 , 0, 1, 0, 0, \\cdots, 0]\n",
    "$$\n",
    "\n",
    "It means that the player combo of the 2nd, 3rd and 6th players in the `combo_2001` data frame may be used as replacments for the lost players. Here is the possible player combo, by choosing the 10th solution of the solutions set. There is no particular reason why we chose 10. Any number chosen from 1 through 20 will equally well work."
   ]
  },
  {
   "cell_type": "code",
   "execution_count": 114,
   "metadata": {
    "scrolled": true
   },
   "outputs": [
    {
     "data": {
      "text/html": [
       "<table>\n",
       "<thead><tr><th></th><th scope=col>playerID</th><th scope=col>H</th><th scope=col>X2B</th><th scope=col>X3B</th><th scope=col>HR</th><th scope=col>OBP</th><th scope=col>SLG</th><th scope=col>BA</th><th scope=col>AB</th><th scope=col>salary</th></tr></thead>\n",
       "<tbody>\n",
       "\t<tr><th scope=row>6263</th><td>eckstda01</td><td>166      </td><td>26       </td><td> 2       </td><td> 4       </td><td>0.3549383</td><td>0.3573883</td><td>0.2852234</td><td>582      </td><td>  200000 </td></tr>\n",
       "\t<tr><th scope=row>19766</th><td>rolliji01</td><td>180      </td><td>29       </td><td>12       </td><td>14       </td><td>0.3234880</td><td>0.4192073</td><td>0.2743902</td><td>656      </td><td>  200000 </td></tr>\n",
       "\t<tr><th scope=row>23777</th><td>walkela01</td><td>174      </td><td>35       </td><td> 3       </td><td>38       </td><td>0.4492512</td><td>0.6619718</td><td>0.3501006</td><td>497      </td><td>12166667 </td></tr>\n",
       "</tbody>\n",
       "</table>\n"
      ],
      "text/latex": [
       "\\begin{tabular}{r|llllllllll}\n",
       "  & playerID & H & X2B & X3B & HR & OBP & SLG & BA & AB & salary\\\\\n",
       "\\hline\n",
       "\t6263 & eckstda01 & 166       & 26        &  2        &  4        & 0.3549383 & 0.3573883 & 0.2852234 & 582       &   200000 \\\\\n",
       "\t19766 & rolliji01 & 180       & 29        & 12        & 14        & 0.3234880 & 0.4192073 & 0.2743902 & 656       &   200000 \\\\\n",
       "\t23777 & walkela01 & 174       & 35        &  3        & 38        & 0.4492512 & 0.6619718 & 0.3501006 & 497       & 12166667 \\\\\n",
       "\\end{tabular}\n"
      ],
      "text/markdown": [
       "\n",
       "| <!--/--> | playerID | H | X2B | X3B | HR | OBP | SLG | BA | AB | salary | \n",
       "|---|---|---|\n",
       "| 6263 | eckstda01 | 166       | 26        |  2        |  4        | 0.3549383 | 0.3573883 | 0.2852234 | 582       |   200000  | \n",
       "| 19766 | rolliji01 | 180       | 29        | 12        | 14        | 0.3234880 | 0.4192073 | 0.2743902 | 656       |   200000  | \n",
       "| 23777 | walkela01 | 174       | 35        |  3        | 38        | 0.4492512 | 0.6619718 | 0.3501006 | 497       | 12166667  | \n",
       "\n",
       "\n"
      ],
      "text/plain": [
       "      playerID  H   X2B X3B HR OBP       SLG       BA        AB  salary  \n",
       "6263  eckstda01 166 26   2   4 0.3549383 0.3573883 0.2852234 582   200000\n",
       "19766 rolliji01 180 29  12  14 0.3234880 0.4192073 0.2743902 656   200000\n",
       "23777 walkela01 174 35   3  38 0.4492512 0.6619718 0.3501006 497 12166667"
      ]
     },
     "metadata": {},
     "output_type": "display_data"
    }
   ],
   "source": [
    "player_combo <- combo_2001[which(!solutions[10,]==0),]\n",
    "player_combo"
   ]
  },
  {
   "cell_type": "markdown",
   "metadata": {},
   "source": [
    "## But does this solution hold water?\n",
    "\n",
    "Let us check if the conditions are indeed satisfied by this possible solution."
   ]
  },
  {
   "cell_type": "code",
   "execution_count": 85,
   "metadata": {},
   "outputs": [
    {
     "data": {
      "text/html": [
       "0.375892521510701"
      ],
      "text/latex": [
       "0.375892521510701"
      ],
      "text/markdown": [
       "0.375892521510701"
      ],
      "text/plain": [
       "[1] 0.3758925"
      ]
     },
     "metadata": {},
     "output_type": "display_data"
    }
   ],
   "source": [
    "mean(player_combo$OBP)"
   ]
  },
  {
   "cell_type": "code",
   "execution_count": 86,
   "metadata": {},
   "outputs": [
    {
     "data": {
      "text/html": [
       "1735"
      ],
      "text/latex": [
       "1735"
      ],
      "text/markdown": [
       "1735"
      ],
      "text/plain": [
       "[1] 1735"
      ]
     },
     "metadata": {},
     "output_type": "display_data"
    }
   ],
   "source": [
    "sum(player_combo$AB)"
   ]
  },
  {
   "cell_type": "code",
   "execution_count": 87,
   "metadata": {},
   "outputs": [
    {
     "data": {
      "text/html": [
       "12566667"
      ],
      "text/latex": [
       "12566667"
      ],
      "text/markdown": [
       "12566667"
      ],
      "text/plain": [
       "[1] 12566667"
      ]
     },
     "metadata": {},
     "output_type": "display_data"
    }
   ],
   "source": [
    "sum(player_combo$salary)"
   ]
  },
  {
   "cell_type": "markdown",
   "metadata": {},
   "source": [
    "They are indeed satisfied. Here is another possibility."
   ]
  },
  {
   "cell_type": "code",
   "execution_count": 115,
   "metadata": {},
   "outputs": [
    {
     "data": {
      "text/html": [
       "<table>\n",
       "<thead><tr><th></th><th scope=col>playerID</th><th scope=col>H</th><th scope=col>X2B</th><th scope=col>X3B</th><th scope=col>HR</th><th scope=col>OBP</th><th scope=col>SLG</th><th scope=col>BA</th><th scope=col>AB</th><th scope=col>salary</th></tr></thead>\n",
       "<tbody>\n",
       "\t<tr><th scope=row>2277</th><td>bondsba01</td><td>156      </td><td>32       </td><td> 2       </td><td>73       </td><td>0.5150602</td><td>0.8634454</td><td>0.3277311</td><td>476      </td><td>10300000 </td></tr>\n",
       "\t<tr><th scope=row>6263</th><td>eckstda01</td><td>166      </td><td>26       </td><td> 2       </td><td> 4       </td><td>0.3549383</td><td>0.3573883</td><td>0.2852234</td><td>582      </td><td>  200000 </td></tr>\n",
       "\t<tr><th scope=row>19766</th><td>rolliji01</td><td>180      </td><td>29       </td><td>12       </td><td>14       </td><td>0.3234880</td><td>0.4192073</td><td>0.2743902</td><td>656      </td><td>  200000 </td></tr>\n",
       "</tbody>\n",
       "</table>\n"
      ],
      "text/latex": [
       "\\begin{tabular}{r|llllllllll}\n",
       "  & playerID & H & X2B & X3B & HR & OBP & SLG & BA & AB & salary\\\\\n",
       "\\hline\n",
       "\t2277 & bondsba01 & 156       & 32        &  2        & 73        & 0.5150602 & 0.8634454 & 0.3277311 & 476       & 10300000 \\\\\n",
       "\t6263 & eckstda01 & 166       & 26        &  2        &  4        & 0.3549383 & 0.3573883 & 0.2852234 & 582       &   200000 \\\\\n",
       "\t19766 & rolliji01 & 180       & 29        & 12        & 14        & 0.3234880 & 0.4192073 & 0.2743902 & 656       &   200000 \\\\\n",
       "\\end{tabular}\n"
      ],
      "text/markdown": [
       "\n",
       "| <!--/--> | playerID | H | X2B | X3B | HR | OBP | SLG | BA | AB | salary | \n",
       "|---|---|---|\n",
       "| 2277 | bondsba01 | 156       | 32        |  2        | 73        | 0.5150602 | 0.8634454 | 0.3277311 | 476       | 10300000  | \n",
       "| 6263 | eckstda01 | 166       | 26        |  2        |  4        | 0.3549383 | 0.3573883 | 0.2852234 | 582       |   200000  | \n",
       "| 19766 | rolliji01 | 180       | 29        | 12        | 14        | 0.3234880 | 0.4192073 | 0.2743902 | 656       |   200000  | \n",
       "\n",
       "\n"
      ],
      "text/plain": [
       "      playerID  H   X2B X3B HR OBP       SLG       BA        AB  salary  \n",
       "2277  bondsba01 156 32   2  73 0.5150602 0.8634454 0.3277311 476 10300000\n",
       "6263  eckstda01 166 26   2   4 0.3549383 0.3573883 0.2852234 582   200000\n",
       "19766 rolliji01 180 29  12  14 0.3234880 0.4192073 0.2743902 656   200000"
      ]
     },
     "metadata": {},
     "output_type": "display_data"
    }
   ],
   "source": [
    "player_combo1 <- combo_2001[which(!solutions[3,]==0),]\n",
    "player_combo1"
   ]
  },
  {
   "cell_type": "code",
   "execution_count": 116,
   "metadata": {},
   "outputs": [
    {
     "data": {
      "text/html": [
       "0.397828852525275"
      ],
      "text/latex": [
       "0.397828852525275"
      ],
      "text/markdown": [
       "0.397828852525275"
      ],
      "text/plain": [
       "[1] 0.3978289"
      ]
     },
     "metadata": {},
     "output_type": "display_data"
    }
   ],
   "source": [
    "mean(player_combo1$OBP)"
   ]
  },
  {
   "cell_type": "code",
   "execution_count": 117,
   "metadata": {},
   "outputs": [
    {
     "data": {
      "text/html": [
       "1714"
      ],
      "text/latex": [
       "1714"
      ],
      "text/markdown": [
       "1714"
      ],
      "text/plain": [
       "[1] 1714"
      ]
     },
     "metadata": {},
     "output_type": "display_data"
    }
   ],
   "source": [
    "sum(player_combo1$AB)"
   ]
  },
  {
   "cell_type": "code",
   "execution_count": 118,
   "metadata": {},
   "outputs": [
    {
     "data": {
      "text/html": [
       "10700000"
      ],
      "text/latex": [
       "10700000"
      ],
      "text/markdown": [
       "10700000"
      ],
      "text/plain": [
       "[1] 10700000"
      ]
     },
     "metadata": {},
     "output_type": "display_data"
    }
   ],
   "source": [
    "sum(player_combo1$salary)"
   ]
  },
  {
   "cell_type": "markdown",
   "metadata": {},
   "source": [
    "## How about an optimal solution from amongst all of the possible solutions?.\n",
    "\n",
    "That can indeed be achieved easily by setting the `all.int=TRUE` parameter and getting rid of the `all.bin=TRUE` parameters. The `num.bin.solns`  parameter is redundant in this case."
   ]
  },
  {
   "cell_type": "code",
   "execution_count": 120,
   "metadata": {},
   "outputs": [],
   "source": [
    "optimal_lp <- lp (\"max\", \n",
    "                  f.obj, \n",
    "                  f.con, \n",
    "                  f.dir, \n",
    "                  f.rhs, \n",
    "                  all.int=TRUE # can't have half a player or 0.9 of a player\n",
    "                 )"
   ]
  },
  {
   "cell_type": "code",
   "execution_count": 123,
   "metadata": {},
   "outputs": [
    {
     "data": {
      "text/html": [
       "915"
      ],
      "text/latex": [
       "915"
      ],
      "text/markdown": [
       "915"
      ],
      "text/plain": [
       "[1] 915"
      ]
     },
     "metadata": {},
     "output_type": "display_data"
    }
   ],
   "source": [
    "# sanity check\n",
    "length(optimal_lp$solution)"
   ]
  },
  {
   "cell_type": "code",
   "execution_count": 124,
   "metadata": {},
   "outputs": [],
   "source": [
    "opt_sol = optimal_lp$solution"
   ]
  },
  {
   "cell_type": "code",
   "execution_count": 125,
   "metadata": {},
   "outputs": [
    {
     "data": {
      "text/html": [
       "<table>\n",
       "<thead><tr><th></th><th scope=col>playerID</th><th scope=col>H</th><th scope=col>X2B</th><th scope=col>X3B</th><th scope=col>HR</th><th scope=col>OBP</th><th scope=col>SLG</th><th scope=col>BA</th><th scope=col>AB</th><th scope=col>salary</th></tr></thead>\n",
       "<tbody>\n",
       "\t<tr><th scope=row>2277</th><td>bondsba01</td><td>156      </td><td>32       </td><td> 2       </td><td>73       </td><td>0.5150602</td><td>0.8634454</td><td>0.3277311</td><td>476      </td><td>10300000 </td></tr>\n",
       "\t<tr><th scope=row>18471</th><td>pujolal01</td><td>194      </td><td>47       </td><td> 4       </td><td>37       </td><td>0.4029630</td><td>0.6101695</td><td>0.3288136</td><td>590      </td><td>  200000 </td></tr>\n",
       "\t<tr><th scope=row>19766</th><td>rolliji01</td><td>180      </td><td>29       </td><td>12       </td><td>14       </td><td>0.3234880</td><td>0.4192073</td><td>0.2743902</td><td>656      </td><td>  200000 </td></tr>\n",
       "</tbody>\n",
       "</table>\n"
      ],
      "text/latex": [
       "\\begin{tabular}{r|llllllllll}\n",
       "  & playerID & H & X2B & X3B & HR & OBP & SLG & BA & AB & salary\\\\\n",
       "\\hline\n",
       "\t2277 & bondsba01 & 156       & 32        &  2        & 73        & 0.5150602 & 0.8634454 & 0.3277311 & 476       & 10300000 \\\\\n",
       "\t18471 & pujolal01 & 194       & 47        &  4        & 37        & 0.4029630 & 0.6101695 & 0.3288136 & 590       &   200000 \\\\\n",
       "\t19766 & rolliji01 & 180       & 29        & 12        & 14        & 0.3234880 & 0.4192073 & 0.2743902 & 656       &   200000 \\\\\n",
       "\\end{tabular}\n"
      ],
      "text/markdown": [
       "\n",
       "| <!--/--> | playerID | H | X2B | X3B | HR | OBP | SLG | BA | AB | salary | \n",
       "|---|---|---|\n",
       "| 2277 | bondsba01 | 156       | 32        |  2        | 73        | 0.5150602 | 0.8634454 | 0.3277311 | 476       | 10300000  | \n",
       "| 18471 | pujolal01 | 194       | 47        |  4        | 37        | 0.4029630 | 0.6101695 | 0.3288136 | 590       |   200000  | \n",
       "| 19766 | rolliji01 | 180       | 29        | 12        | 14        | 0.3234880 | 0.4192073 | 0.2743902 | 656       |   200000  | \n",
       "\n",
       "\n"
      ],
      "text/plain": [
       "      playerID  H   X2B X3B HR OBP       SLG       BA        AB  salary  \n",
       "2277  bondsba01 156 32   2  73 0.5150602 0.8634454 0.3277311 476 10300000\n",
       "18471 pujolal01 194 47   4  37 0.4029630 0.6101695 0.3288136 590   200000\n",
       "19766 rolliji01 180 29  12  14 0.3234880 0.4192073 0.2743902 656   200000"
      ]
     },
     "metadata": {},
     "output_type": "display_data"
    }
   ],
   "source": [
    "optimal_combo <- combo_2001[which(!opt_sol==0),]\n",
    "optimal_combo"
   ]
  },
  {
   "cell_type": "markdown",
   "metadata": {},
   "source": [
    "## Check if the solution satisfies the constraints."
   ]
  },
  {
   "cell_type": "code",
   "execution_count": 108,
   "metadata": {},
   "outputs": [
    {
     "data": {
      "text/html": [
       "10700000"
      ],
      "text/latex": [
       "10700000"
      ],
      "text/markdown": [
       "10700000"
      ],
      "text/plain": [
       "[1] 10700000"
      ]
     },
     "metadata": {},
     "output_type": "display_data"
    }
   ],
   "source": [
    "sum(optimal_combo$salary)"
   ]
  },
  {
   "cell_type": "code",
   "execution_count": 109,
   "metadata": {},
   "outputs": [
    {
     "data": {
      "text/html": [
       "0.41383708297795"
      ],
      "text/latex": [
       "0.41383708297795"
      ],
      "text/markdown": [
       "0.41383708297795"
      ],
      "text/plain": [
       "[1] 0.4138371"
      ]
     },
     "metadata": {},
     "output_type": "display_data"
    }
   ],
   "source": [
    "mean(optimal_combo$OBP)"
   ]
  },
  {
   "cell_type": "code",
   "execution_count": 110,
   "metadata": {},
   "outputs": [
    {
     "data": {
      "text/html": [
       "1722"
      ],
      "text/latex": [
       "1722"
      ],
      "text/markdown": [
       "1722"
      ],
      "text/plain": [
       "[1] 1722"
      ]
     },
     "metadata": {},
     "output_type": "display_data"
    }
   ],
   "source": [
    "sum(optimal_combo$AB)"
   ]
  },
  {
   "cell_type": "markdown",
   "metadata": {},
   "source": [
    "This optimal solution is probably impractical since Barry Bonds would never have been sold by the Giants. His ego was probably too big for him to have played for the Oakland A's anyway. :)"
   ]
  }
 ],
 "metadata": {
  "kernelspec": {
   "display_name": "R",
   "language": "R",
   "name": "ir"
  },
  "language_info": {
   "codemirror_mode": "r",
   "file_extension": ".r",
   "mimetype": "text/x-r-source",
   "name": "R",
   "pygments_lexer": "r",
   "version": "3.5.1"
  }
 },
 "nbformat": 4,
 "nbformat_minor": 2
}
